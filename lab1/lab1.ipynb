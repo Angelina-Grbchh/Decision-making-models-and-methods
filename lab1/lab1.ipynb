{
 "cells": [
  {
   "cell_type": "code",
   "execution_count": 2,
   "metadata": {},
   "outputs": [],
   "source": [
    "import numpy as np"
   ]
  },
  {
   "cell_type": "code",
   "execution_count": 3,
   "metadata": {},
   "outputs": [
    {
     "name": "stdout",
     "output_type": "stream",
     "text": [
      "Рефлексивне: False\n",
      "Антирефлексивне: False\n",
      "Симетричне: False\n",
      "Асиметричне: False\n",
      "Антисиметричне: False\n",
      "Транзитивне: True\n",
      "Найбільший елемент: [1]\n",
      "Найменший елемент: []\n",
      "Максимальні елементи: []\n",
      "Мінімальні елементи: [] \n",
      "\n",
      "Обернене відношення:\n",
      " [[1 1 1 1 0]\n",
      " [1 1 0 0 1]\n",
      " [0 1 1 1 0]\n",
      " [1 1 1 1 0]\n",
      " [0 1 0 0 0]] \n",
      "\n",
      "Доповнене відношення:\n",
      " [[0 0 1 0 1]\n",
      " [0 0 0 0 0]\n",
      " [0 1 0 0 1]\n",
      " [0 1 0 0 1]\n",
      " [1 0 1 1 0]]\n"
     ]
    }
   ],
   "source": [
    "def is_reflexive(R):\n",
    "    return np.all(np.diag(R) == 1)\n",
    "\n",
    "def is_antireflexive(R):\n",
    "    return np.all(np.diag(R) == 0)\n",
    "\n",
    "def is_symmetric(R):\n",
    "    return np.array_equal(R, R.T)\n",
    "\n",
    "def is_asymmetric(R):\n",
    "    return np.all((R & R.T) == 0)\n",
    "\n",
    "def is_antisymmetric(R):\n",
    "    return np.all((R & R.T) * (1 - np.eye(R.shape[0])) == 0)\n",
    "\n",
    "def is_transitive(R):\n",
    "    R_squared = np.linalg.matrix_power(R, 2)\n",
    "    return np.all((R_squared >= R) | (R_squared == 0))\n",
    "\n",
    "def find_elements(R):\n",
    "    n = R.shape[0]\n",
    "    \n",
    "    greatest = [i for i in range(n) if all(R[i, j] == 1 for j in range(n))]\n",
    "    \n",
    "    least = [i for i in range(n) if all(R[j, i] == 1 for j in range(n))]\n",
    "    \n",
    "    maximal = [i for i in range(n) if not any(R[j, i] == 1 and i != j for j in range(n))]\n",
    "    \n",
    "    minimal = [i for i in range(n) if not any(R[i, j] == 1 and i != j for j in range(n))]\n",
    "    \n",
    "    return greatest, least, maximal, minimal\n",
    "\n",
    "def inverse_relation(R):\n",
    "    return R.T \n",
    "\n",
    "def complement_relation(R):\n",
    "    n = R.shape[0]\n",
    "    return (1 - R) * (1 - np.eye(n, dtype=int))  \n",
    "\n",
    "\n",
    "R = np.array([[1, 1, 0, 1, 0],\n",
    "              [1, 1, 1, 1, 1],\n",
    "              [1, 0, 1, 1, 0],\n",
    "              [1, 0, 1, 1, 0],\n",
    "              [0, 1, 0, 0, 0]])\n",
    "\n",
    "print(\"Рефлексивне:\", is_reflexive(R))\n",
    "print(\"Антирефлексивне:\", is_antireflexive(R))\n",
    "print(\"Симетричне:\", is_symmetric(R))\n",
    "print(\"Асиметричне:\", is_asymmetric(R))\n",
    "print(\"Антисиметричне:\", is_antisymmetric(R))\n",
    "print(\"Транзитивне:\", is_transitive(R))\n",
    "\n",
    "greatest, least, maximal, minimal = find_elements(R)\n",
    "inverse_R = inverse_relation(R)\n",
    "complement_R = complement_relation(R)\n",
    "\n",
    "print(\"Найбільший елемент:\", greatest)\n",
    "print(\"Найменший елемент:\", least)\n",
    "print(\"Максимальні елементи:\", maximal)\n",
    "print(\"Мінімальні елементи:\", minimal, \"\\n\")\n",
    "print(\"Обернене відношення:\\n\", inverse_R, \"\\n\")\n",
    "print(\"Доповнене відношення:\\n\", complement_R)\n"
   ]
  }
 ],
 "metadata": {
  "kernelspec": {
   "display_name": "Python 3",
   "language": "python",
   "name": "python3"
  },
  "language_info": {
   "codemirror_mode": {
    "name": "ipython",
    "version": 3
   },
   "file_extension": ".py",
   "mimetype": "text/x-python",
   "name": "python",
   "nbconvert_exporter": "python",
   "pygments_lexer": "ipython3",
   "version": "3.13.0"
  }
 },
 "nbformat": 4,
 "nbformat_minor": 2
}
